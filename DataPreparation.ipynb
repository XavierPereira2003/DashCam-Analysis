{
 "cells": [
  {
   "cell_type": "markdown",
   "metadata": {},
   "source": [
    "# Preprocessing"
   ]
  },
  {
   "cell_type": "code",
   "execution_count": 2,
   "metadata": {},
   "outputs": [
    {
     "name": "stdout",
     "output_type": "stream",
     "text": [
      "All images are unique.\n"
     ]
    }
   ],
   "source": [
    "import os\n",
    "import hashlib\n",
    "\n",
    "def get_file_hash(filepath):\n",
    "    \"\"\"Compute SHA-256 hash of a file.\"\"\"\n",
    "    hasher = hashlib.sha256()\n",
    "    with open(filepath, \"rb\") as f:\n",
    "        while chunk := f.read(8192):\n",
    "            hasher.update(chunk)\n",
    "    return hasher.hexdigest()\n",
    "\n",
    "def find_duplicate_images(folder_path):\n",
    "    \"\"\"Find and print duplicate images in a folder and its subfolders.\"\"\"\n",
    "    hash_map = {}  # Stores hash -> file path\n",
    "    duplicates = []\n",
    "\n",
    "    for root, _, files in os.walk(folder_path):\n",
    "        for file in files:\n",
    "            file_path = os.path.join(root, file)\n",
    "\n",
    "            # Skip non-image files (optional)\n",
    "            if not file.lower().endswith(('.jpg')):\n",
    "                continue\n",
    "\n",
    "            file_hash = get_file_hash(file_path)\n",
    "\n",
    "            if file_hash in hash_map:\n",
    "                duplicates.append((file_path, hash_map[file_hash]))\n",
    "            else:\n",
    "                hash_map[file_hash] = file_path\n",
    "\n",
    "    if duplicates:\n",
    "        print(\"Duplicate Images Found:\")\n",
    "        for dup, original in duplicates:\n",
    "            print(f\"{dup} is a duplicate of {original}\")\n",
    "    else:\n",
    "        print(\"All images are unique.\")\n",
    "\n",
    "folder = r\"idd20kII/leftImg8bit/train/\"  \n",
    "find_duplicate_images(folder)\n"
   ]
  },
  {
   "cell_type": "code",
   "execution_count": 3,
   "metadata": {},
   "outputs": [],
   "source": [
    "import json\n",
    "import os\n",
    "import numpy as np\n",
    "from PIL import Image\n",
    "\n",
    "def polygon_area(polygon):\n",
    "    \"\"\"Calculate the area of a polygon using the Shoelace formula.\"\"\"\n",
    "    x = [p[0] for p in polygon]\n",
    "    y = [p[1] for p in polygon]\n",
    "    return 0.5 * abs(sum(x[i] * y[i+1] - x[i+1] * y[i] for i in range(len(x)-1)) + x[-1] * y[0] - x[0] * y[-1])\n",
    "\n",
    "def calculate_bbox(polygon):\n",
    "    \"\"\"Calculate bounding box from polygon points [x1, y1, x2, y2, ...] format.\"\"\"\n",
    "    x_coords = [p[0] for p in polygon]\n",
    "    y_coords = [p[1] for p in polygon]\n",
    "    \n",
    "    # COCO format is [x, y, width, height]\n",
    "    x_min = min(x_coords)\n",
    "    y_min = min(y_coords)\n",
    "    width = max(x_coords) - x_min\n",
    "    height = max(y_coords) - y_min\n",
    "    \n",
    "    return [x_min, y_min, width, height]\n",
    "\n",
    "def convert_to_coco(input_files, output_file):\n",
    "    \"\"\"\n",
    "    Convert custom JSON format to COCO format.\n",
    "    \n",
    "    Args:\n",
    "        input_files: List of tuples containing (image_path, json_path)\n",
    "        output_file: Path to save the COCO format JSON\n",
    "    \"\"\"\n",
    "    # Initialize COCO format structure\n",
    "    coco_data = {\n",
    "        \"info\": {\n",
    "            \"description\": \"Converted from custom format\",\n",
    "            \"url\": \"\",\n",
    "            \"version\": \"1.0\",\n",
    "            \"year\": \"\",\n",
    "            \"contributor\": \"\",\n",
    "            \"date_created\": \"\"\n",
    "        },\n",
    "        \"licenses\": [\n",
    "            {\n",
    "                \"id\": 1,\n",
    "                \"name\": \"\",\n",
    "                \"url\": \"\"\n",
    "            }\n",
    "        ],\n",
    "        \"images\": [],\n",
    "        \"annotations\": [],\n",
    "        \"categories\": []\n",
    "    }\n",
    "    \n",
    "    # Create a mapping of category names to ids\n",
    "    category_map = {}\n",
    "    category_id = 1\n",
    "    \n",
    "    # Keep track of image and annotation IDs\n",
    "    image_id = 1\n",
    "    annotation_id = 1\n",
    "    \n",
    "    # Process each image and its annotations\n",
    "    for img_path, json_path in input_files:\n",
    "        # Get image dimensions\n",
    "        try:\n",
    "            with Image.open(img_path) as img:\n",
    "                width, height = img.size\n",
    "        except Exception as e:\n",
    "            print(f\"Error opening image {img_path}: {e}\")\n",
    "            # Use dimensions from JSON if available\n",
    "            with open(json_path, 'r') as f:\n",
    "                json_data = json.load(f)\n",
    "                width = json_data.get(\"imgWidth\", 0)\n",
    "                height = json_data.get(\"imgHeight\", 0)\n",
    "        \n",
    "        # Add image to COCO format\n",
    "        coco_data[\"images\"].append({\n",
    "            \"id\": image_id,\n",
    "            \"width\": width,\n",
    "            \"height\": height,\n",
    "            \"image_path\": img_path,\n",
    "            \"license\": 1,\n",
    "            \"flickr_url\": \"\",\n",
    "            \"coco_url\": \"\",\n",
    "            \"date_captured\": \"\"\n",
    "        })\n",
    "        \n",
    "        # Process annotations\n",
    "        try:\n",
    "            with open(json_path, 'r') as f:\n",
    "                json_data = json.load(f)\n",
    "                \n",
    "                for obj in json_data.get(\"objects\", []):\n",
    "                    if obj.get(\"deleted\", 0) == 1:\n",
    "                        continue  # Skip deleted objects\n",
    "                    \n",
    "                    label = obj.get(\"label\", \"unknown\")\n",
    "                    polygon = obj.get(\"polygon\", [])\n",
    "                    \n",
    "                    # Skip incomplete polygons\n",
    "                    if len(polygon) < 3:\n",
    "                        continue\n",
    "                    \n",
    "                    # Add category if not seen before\n",
    "                    if label not in category_map:\n",
    "                        category_map[label] = category_id\n",
    "                        coco_data[\"categories\"].append({\n",
    "                            \"id\": category_id,\n",
    "                            \"name\": label,\n",
    "                            \"supercategory\": \"none\"\n",
    "                        })\n",
    "                        category_id += 1\n",
    "                    \n",
    "                    # Calculate bounding box and area\n",
    "                    bbox = calculate_bbox(polygon)\n",
    "                    area = polygon_area(polygon)\n",
    "                    \n",
    "                    # Flatten the polygon for COCO format\n",
    "                    flattened_polygon = [coord for point in polygon for coord in point]\n",
    "                    \n",
    "                    # Add annotation\n",
    "                    coco_data[\"annotations\"].append({\n",
    "                        \"id\": annotation_id,\n",
    "                        \"image_id\": image_id,\n",
    "                        \"category_id\": category_map[label],\n",
    "                        \"segmentation\": [flattened_polygon],  # COCO expects a list of polygons\n",
    "                        \"area\": area,\n",
    "                        \"bbox\": bbox,\n",
    "                        \"iscrowd\": 0,\n",
    "                        \"attributes\": {\n",
    "                            \"date\": obj.get(\"date\", \"\"),\n",
    "                            \"verified\": obj.get(\"verified\", 0),\n",
    "                            \"user\": obj.get(\"user\", \"\")\n",
    "                        }\n",
    "                    })\n",
    "                    \n",
    "                    annotation_id += 1\n",
    "        except Exception as e:\n",
    "            print(f\"Error processing annotations for {json_path}: {e}\")\n",
    "        \n",
    "        image_id += 1\n",
    "    \n",
    "    # Write COCO format to file\n",
    "    with open(output_file, 'w') as f:\n",
    "        json.dump(coco_data, f, indent=2)\n",
    "    \n",
    "    print(f\"Conversion complete. COCO format saved to {output_file}\")\n",
    "    print(f\"Converted {image_id-1} images and {annotation_id-1} annotations\")\n",
    "    print(f\"Found {len(coco_data['categories'])} categories: {', '.join(category_map.keys())}\")"
   ]
  },
  {
   "cell_type": "code",
   "execution_count": 4,
   "metadata": {},
   "outputs": [
    {
     "name": "stdout",
     "output_type": "stream",
     "text": [
      "Length of the dataset: 7034 and 7034\n",
      "idd20kII/leftImg8bit/train/368/frame1156_leftImg8bit.jpg idd20kII/gtFine/train/368/frame1156_gtFine_polygons.json\n"
     ]
    }
   ],
   "source": [
    "from glob import glob\n",
    "import re\n",
    "import numpy as np\n",
    "def convert_path(p):\n",
    "    # Replace the folder part\n",
    "    \n",
    "    p = re.sub(r'^idd20kII/leftImg8bit/train', 'idd20kII/gtFine/train', p)\n",
    "    # Replace the filename part\n",
    "    p = re.sub(r'_leftImg8bit\\.jpg$', '_gtFine_polygons.json', p)\n",
    "    return p\n",
    "\n",
    "image = glob('idd20kII/leftImg8bit/train/*/*_leftImg8bit.jpg')\n",
    "labels= [convert_path(p) for p in image]\n",
    "\n",
    "print(f\"Length of the dataset: {len(image)} and {len(labels)}\" )\n",
    "print(image[0], labels[0])"
   ]
  },
  {
   "cell_type": "code",
   "execution_count": 5,
   "metadata": {},
   "outputs": [
    {
     "ename": "KeyboardInterrupt",
     "evalue": "",
     "output_type": "error",
     "traceback": [
      "\u001b[31m---------------------------------------------------------------------------\u001b[39m",
      "\u001b[31mKeyboardInterrupt\u001b[39m                         Traceback (most recent call last)",
      "\u001b[36mCell\u001b[39m\u001b[36m \u001b[39m\u001b[32mIn[5]\u001b[39m\u001b[32m, line 1\u001b[39m\n\u001b[32m----> \u001b[39m\u001b[32m1\u001b[39m \u001b[43mconvert_to_coco\u001b[49m\u001b[43m(\u001b[49m\u001b[38;5;28;43mlist\u001b[39;49m\u001b[43m(\u001b[49m\u001b[38;5;28;43mzip\u001b[39;49m\u001b[43m(\u001b[49m\u001b[43mimage\u001b[49m\u001b[43m,\u001b[49m\u001b[43m \u001b[49m\u001b[43mlabels\u001b[49m\u001b[43m)\u001b[49m\u001b[43m)\u001b[49m\u001b[43m,\u001b[49m\u001b[43m \u001b[49m\u001b[33;43m'\u001b[39;49m\u001b[33;43midd20kII_train.json\u001b[39;49m\u001b[33;43m'\u001b[39;49m\u001b[43m)\u001b[49m\n",
      "\u001b[36mCell\u001b[39m\u001b[36m \u001b[39m\u001b[32mIn[3]\u001b[39m\u001b[32m, line 117\u001b[39m, in \u001b[36mconvert_to_coco\u001b[39m\u001b[34m(input_files, output_file)\u001b[39m\n\u001b[32m    115\u001b[39m \u001b[38;5;66;03m# Calculate bounding box and area\u001b[39;00m\n\u001b[32m    116\u001b[39m bbox = calculate_bbox(polygon)\n\u001b[32m--> \u001b[39m\u001b[32m117\u001b[39m area = \u001b[43mpolygon_area\u001b[49m\u001b[43m(\u001b[49m\u001b[43mpolygon\u001b[49m\u001b[43m)\u001b[49m\n\u001b[32m    119\u001b[39m \u001b[38;5;66;03m# Flatten the polygon for COCO format\u001b[39;00m\n\u001b[32m    120\u001b[39m flattened_polygon = [coord \u001b[38;5;28;01mfor\u001b[39;00m point \u001b[38;5;129;01min\u001b[39;00m polygon \u001b[38;5;28;01mfor\u001b[39;00m coord \u001b[38;5;129;01min\u001b[39;00m point]\n",
      "\u001b[36mCell\u001b[39m\u001b[36m \u001b[39m\u001b[32mIn[3]\u001b[39m\u001b[32m, line 10\u001b[39m, in \u001b[36mpolygon_area\u001b[39m\u001b[34m(polygon)\u001b[39m\n\u001b[32m      8\u001b[39m x = [p[\u001b[32m0\u001b[39m] \u001b[38;5;28;01mfor\u001b[39;00m p \u001b[38;5;129;01min\u001b[39;00m polygon]\n\u001b[32m      9\u001b[39m y = [p[\u001b[32m1\u001b[39m] \u001b[38;5;28;01mfor\u001b[39;00m p \u001b[38;5;129;01min\u001b[39;00m polygon]\n\u001b[32m---> \u001b[39m\u001b[32m10\u001b[39m \u001b[38;5;28;01mreturn\u001b[39;00m \u001b[32m0.5\u001b[39m * \u001b[38;5;28mabs\u001b[39m(\u001b[38;5;28;43msum\u001b[39;49m\u001b[43m(\u001b[49m\u001b[43mx\u001b[49m\u001b[43m[\u001b[49m\u001b[43mi\u001b[49m\u001b[43m]\u001b[49m\u001b[43m \u001b[49m\u001b[43m*\u001b[49m\u001b[43m \u001b[49m\u001b[43my\u001b[49m\u001b[43m[\u001b[49m\u001b[43mi\u001b[49m\u001b[43m+\u001b[49m\u001b[32;43m1\u001b[39;49m\u001b[43m]\u001b[49m\u001b[43m \u001b[49m\u001b[43m-\u001b[49m\u001b[43m \u001b[49m\u001b[43mx\u001b[49m\u001b[43m[\u001b[49m\u001b[43mi\u001b[49m\u001b[43m+\u001b[49m\u001b[32;43m1\u001b[39;49m\u001b[43m]\u001b[49m\u001b[43m \u001b[49m\u001b[43m*\u001b[49m\u001b[43m \u001b[49m\u001b[43my\u001b[49m\u001b[43m[\u001b[49m\u001b[43mi\u001b[49m\u001b[43m]\u001b[49m\u001b[43m \u001b[49m\u001b[38;5;28;43;01mfor\u001b[39;49;00m\u001b[43m \u001b[49m\u001b[43mi\u001b[49m\u001b[43m \u001b[49m\u001b[38;5;129;43;01min\u001b[39;49;00m\u001b[43m \u001b[49m\u001b[38;5;28;43mrange\u001b[39;49m\u001b[43m(\u001b[49m\u001b[38;5;28;43mlen\u001b[39;49m\u001b[43m(\u001b[49m\u001b[43mx\u001b[49m\u001b[43m)\u001b[49m\u001b[43m-\u001b[49m\u001b[32;43m1\u001b[39;49m\u001b[43m)\u001b[49m\u001b[43m)\u001b[49m + x[-\u001b[32m1\u001b[39m] * y[\u001b[32m0\u001b[39m] - x[\u001b[32m0\u001b[39m] * y[-\u001b[32m1\u001b[39m])\n",
      "\u001b[36mCell\u001b[39m\u001b[36m \u001b[39m\u001b[32mIn[3]\u001b[39m\u001b[32m, line 10\u001b[39m, in \u001b[36m<genexpr>\u001b[39m\u001b[34m(.0)\u001b[39m\n\u001b[32m      8\u001b[39m x = [p[\u001b[32m0\u001b[39m] \u001b[38;5;28;01mfor\u001b[39;00m p \u001b[38;5;129;01min\u001b[39;00m polygon]\n\u001b[32m      9\u001b[39m y = [p[\u001b[32m1\u001b[39m] \u001b[38;5;28;01mfor\u001b[39;00m p \u001b[38;5;129;01min\u001b[39;00m polygon]\n\u001b[32m---> \u001b[39m\u001b[32m10\u001b[39m \u001b[38;5;28;01mreturn\u001b[39;00m \u001b[32m0.5\u001b[39m * \u001b[38;5;28mabs\u001b[39m(\u001b[38;5;28msum\u001b[39m(x[i] * y[i+\u001b[32m1\u001b[39m] - x[i+\u001b[32m1\u001b[39m] * y[i] \u001b[38;5;28;01mfor\u001b[39;00m i \u001b[38;5;129;01min\u001b[39;00m \u001b[38;5;28mrange\u001b[39m(\u001b[38;5;28mlen\u001b[39m(x)-\u001b[32m1\u001b[39m)) + x[-\u001b[32m1\u001b[39m] * y[\u001b[32m0\u001b[39m] - x[\u001b[32m0\u001b[39m] * y[-\u001b[32m1\u001b[39m])\n",
      "\u001b[31mKeyboardInterrupt\u001b[39m: "
     ]
    }
   ],
   "source": [
    "convert_to_coco(list(zip(image, labels)), 'idd20kII_train.json')"
   ]
  },
  {
   "cell_type": "code",
   "execution_count": 6,
   "metadata": {},
   "outputs": [
    {
     "name": "stdout",
     "output_type": "stream",
     "text": [
      "Conversion complete. COCO format saved to idd20kII_train_subset.json\n",
      "Converted 100 images and 9019 annotations\n",
      "Found 33 categories: road, sky, non-drivable fallback, vegetation, obs-str-bar-fallback, fence, guard rail, curb, vehicle fallback, car, pole, traffic sign, fallback background, truck, sidewalk, building, drivable fallback, trailer, rider, motorcycle, person, billboard, autorickshaw, bus, wall, out of roi, animal, bicycle, traffic light, caravan, polegroup, bridge, rectification border\n"
     ]
    }
   ],
   "source": [
    "convert_to_coco(list(zip(image, labels))[:100], 'idd20kII_train_subset.json')"
   ]
  },
  {
   "cell_type": "code",
   "execution_count": null,
   "metadata": {},
   "outputs": [
    {
     "name": "stdout",
     "output_type": "stream",
     "text": [
      "Length of the dataset: 1055 and 1055\n",
      "idd20kII/leftImg8bit/val/557/frame0149_leftImg8bit.jpg idd20kII/gtFine/val/557/frame0149_gtFine_polygons.json\n"
     ]
    }
   ],
   "source": [
    "from glob import glob\n",
    "import re\n",
    "import numpy as np\n",
    "def convert_path(p):\n",
    "    # Replace the folder part\n",
    "    \n",
    "    p = re.sub(r'^idd20kII/leftImg8bit/val', 'idd20kII/gtFine/val', p)\n",
    "    # Replace the filename part\n",
    "    p = re.sub(r'_leftImg8bit\\.jpg$', '_gtFine_polygons.json', p)\n",
    "    return p\n",
    "\n",
    "image = glob('idd20kII/leftImg8bit/val/*/*_leftImg8bit.jpg')\n",
    "labels= [convert_path(p) for p in image]\n",
    "\n",
    "print(f\"Length of the dataset: {len(image)} and {len(labels)}\" )\n",
    "print(image[0], labels[0])"
   ]
  },
  {
   "cell_type": "code",
   "execution_count": null,
   "metadata": {},
   "outputs": [
    {
     "name": "stdout",
     "output_type": "stream",
     "text": [
      "idd20kII/leftImg8bit/val/557/frame0149_leftImg8bit.jpg idd20kII/gtFine/val/557/frame0149_gtFine_polygons.json\n"
     ]
    }
   ],
   "source": [
    "convert_to_coco(list(zip(image, labels)), 'idd20kII_val.json')"
   ]
  },
  {
   "cell_type": "code",
   "execution_count": null,
   "metadata": {},
   "outputs": [
    {
     "name": "stdout",
     "output_type": "stream",
     "text": [
      "Conversion complete. COCO format saved to idd20kII_coco_format.json\n",
      "Converted 8089 images and 792146 annotations\n",
      "Found 39 categories: road, sky, non-drivable fallback, vegetation, obs-str-bar-fallback, fence, guard rail, curb, vehicle fallback, car, pole, traffic sign, fallback background, truck, sidewalk, building, drivable fallback, trailer, rider, motorcycle, person, billboard, autorickshaw, bus, wall, out of roi, animal, bicycle, traffic light, caravan, polegroup, bridge, rectification border, train, parking, rail track, tunnel, unlabeled, ego vehicle\n"
     ]
    }
   ],
   "source": []
  },
  {
   "cell_type": "code",
   "execution_count": 9,
   "metadata": {},
   "outputs": [],
   "source": [
    "dataset= json.load(open('idd20kII_coco_format.json'))\n"
   ]
  },
  {
   "cell_type": "code",
   "execution_count": 10,
   "metadata": {},
   "outputs": [
    {
     "data": {
      "text/plain": [
       "dict_keys(['info', 'licenses', 'images', 'annotations', 'categories'])"
      ]
     },
     "execution_count": 10,
     "metadata": {},
     "output_type": "execute_result"
    }
   ],
   "source": [
    "dataset.keys()"
   ]
  },
  {
   "cell_type": "code",
   "execution_count": 11,
   "metadata": {},
   "outputs": [
    {
     "data": {
      "text/plain": [
       "dict_keys(['id', 'width', 'height', 'image_path', 'license', 'flickr_url', 'coco_url', 'date_captured'])"
      ]
     },
     "execution_count": 11,
     "metadata": {},
     "output_type": "execute_result"
    }
   ],
   "source": [
    "dataset['images'][0].keys()"
   ]
  },
  {
   "cell_type": "code",
   "execution_count": null,
   "metadata": {},
   "outputs": [],
   "source": [
    "daraset"
   ]
  }
 ],
 "metadata": {
  "kernelspec": {
   "display_name": "intel",
   "language": "python",
   "name": "python3"
  },
  "language_info": {
   "codemirror_mode": {
    "name": "ipython",
    "version": 3
   },
   "file_extension": ".py",
   "mimetype": "text/x-python",
   "name": "python",
   "nbconvert_exporter": "python",
   "pygments_lexer": "ipython3",
   "version": "3.12.9"
  }
 },
 "nbformat": 4,
 "nbformat_minor": 2
}
